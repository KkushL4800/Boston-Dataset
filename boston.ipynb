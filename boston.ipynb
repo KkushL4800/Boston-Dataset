{
 "cells": [
  {
   "cell_type": "code",
   "execution_count": 23,
   "metadata": {
    "collapsed": true
   },
   "outputs": [],
   "source": [
    "import numpy as np"
   ]
  },
  {
   "cell_type": "code",
   "execution_count": 24,
   "metadata": {},
   "outputs": [],
   "source": [
    "from sklearn import preprocessing\n",
    "data=np.loadtxt(\"boston_x_y_train.csv\",delimiter=\",\")\n",
    "min_max_scaler_object=preprocessing.MinMaxScaler(feature_range=(0,1))\n",
    "x=data[:,0:13]\n",
    "y=data[:,13]\n",
    "z=np.array([1 for i in range(len(data))])\n",
    "z=z.reshape(len(data),1)\n",
    "x=min_max_scaler_object.fit_transform(x)\n",
    "x=np.append(x,z,axis=1)"
   ]
  },
  {
   "cell_type": "code",
   "execution_count": 25,
   "metadata": {
    "collapsed": true
   },
   "outputs": [],
   "source": [
    "def step_gd(points,lr,j,m):\n",
    "    M=len(points)\n",
    "    slope_m=0\n",
    "    for i in range(M):\n",
    "        xx=points[i,0:14]\n",
    "        yy=y[i]\n",
    "        temp=0\n",
    "        for k in range(14):\n",
    "            temp +=xx[k]*m[k]\n",
    "        temp=yy-temp\n",
    "        slope_m+=(-2/M)*(temp*xx[j])\n",
    "    new_m=m[j]-lr*slope_m\n",
    "    return new_m"
   ]
  },
  {
   "cell_type": "code",
   "execution_count": 26,
   "metadata": {
    "collapsed": true
   },
   "outputs": [],
   "source": [
    "def gd(points,lr,itr):\n",
    "    M=len(points)\n",
    "    N=14\n",
    "    m=[0 for i in range(N)]\n",
    "    for i in range(itr):\n",
    "        for j in range(N):\n",
    "            m[j]=step_gd(points,lr,j,m)\n",
    "       #     print(t_cost(points,m))\n",
    "    return m        "
   ]
  },
  {
   "cell_type": "code",
   "execution_count": 27,
   "metadata": {
    "collapsed": true
   },
   "outputs": [],
   "source": [
    "def t_cost(points,m):\n",
    "    M=len(points)\n",
    "    N=14\n",
    "    cost=0\n",
    "    for i in range(M):\n",
    "        temp=0\n",
    "        xx=points[i,0:14]\n",
    "        yy=y[i]\n",
    "        for j in range(N):\n",
    "            temp+=xx[j]*m[j]\n",
    "        temp=yy-temp\n",
    "        cost+=(1/M)*(temp**2)\n",
    "    return cost    "
   ]
  },
  {
   "cell_type": "code",
   "execution_count": 31,
   "metadata": {
    "collapsed": true
   },
   "outputs": [],
   "source": [
    "def predict(m,x_test):\n",
    "    y_pred=list()\n",
    "    for i in range(len(x_test)):\n",
    "        yy=0\n",
    "        for j in range(13):\n",
    "            yy+=m[j]*x_test[i,j]\n",
    "        yy+=m[13]\n",
    "        y_pred.append(yy)\n",
    "    return (np.array(y_pred))    \n",
    "            "
   ]
  },
  {
   "cell_type": "code",
   "execution_count": 32,
   "metadata": {},
   "outputs": [
    {
     "name": "stdout",
     "output_type": "stream",
     "text": [
      "[-8.926364815678772, 2.870818349219316, -0.13183301609831571, 3.1150893804259878, -9.0288928784502982, 17.767711444471114, 0.39699556761083893, -15.017231556611133, 6.3775203269574705, -4.944797305863367, -9.8026242273642836, 2.6335962844675005, -20.898397265192312, 29.734926928317066]\n"
     ]
    }
   ],
   "source": [
    "learning_rate=1\n",
    "itr=200\n",
    "m=gd(x,learning_rate,itr)\n",
    "print(m)\n",
    "m=np.array(m)\n",
    "test=np.loadtxt(\"boston_test.csv\",delimiter=\",\")\n",
    "test=min_max_scaler_object.fit_transform(test)\n",
    "y_pred=predict(m,test)"
   ]
  },
  {
   "cell_type": "code",
   "execution_count": 33,
   "metadata": {},
   "outputs": [
    {
     "name": "stdout",
     "output_type": "stream",
     "text": [
      "23.4743716418\n"
     ]
    }
   ],
   "source": [
    "print(t_cost(x,m))\n",
    "np.savetxt('ff.csv',y_pred)"
   ]
  }
 ],
 "metadata": {
  "kernelspec": {
   "display_name": "Python 3",
   "language": "python",
   "name": "python3"
  },
  "language_info": {
   "codemirror_mode": {
    "name": "ipython",
    "version": 3
   },
   "file_extension": ".py",
   "mimetype": "text/x-python",
   "name": "python",
   "nbconvert_exporter": "python",
   "pygments_lexer": "ipython3",
   "version": "3.6.3"
  }
 },
 "nbformat": 4,
 "nbformat_minor": 2
}
